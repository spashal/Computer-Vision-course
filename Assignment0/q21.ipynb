{
 "cells": [
  {
   "cell_type": "code",
   "execution_count": 9,
   "metadata": {},
   "outputs": [],
   "source": [
    "import cv2\n",
    "import numpy as np\n",
    "\n",
    "count = 0\n",
    "success = 1\n",
    "time = 0.1\n",
    "t = 0\n",
    "\n",
    "inputVidPath = \"videos/a.mp4\"\n",
    "outputImagesPath = \"outputs/a_images/\"\n",
    "\n",
    "# video as an object\n",
    "vid = cv2.VideoCapture(inputVidPath)\n",
    "\n",
    "while success:\n",
    "    vid.set(cv2.CAP_PROP_POS_MSEC, t*1000)\n",
    "    success, image = vid.read()\n",
    "    if success == 0:\n",
    "        break\n",
    "    cv2.imwrite(outputImagesPath + str(count) + \".jpg\", image)\n",
    "    count += 1\n",
    "    t += time"
   ]
  },
  {
   "cell_type": "code",
   "execution_count": 15,
   "metadata": {},
   "outputs": [
    {
     "name": "stderr",
     "output_type": "stream",
     "text": [
      "OpenCV: FFMPEG: tag 0x5634504d/'MP4V' is not supported with codec id 12 and format 'mp4 / MP4 (MPEG-4 Part 14)'\n",
      "OpenCV: FFMPEG: fallback to use tag 0x7634706d/'mp4v'\n"
     ]
    }
   ],
   "source": [
    "inputImagesPath = outputImagesPath\n",
    "outputVidPath = \"videos/a_out.mp4\"\n",
    "\n",
    "newCount = 0\n",
    "success = 1\n",
    "newCount = 0\n",
    "outputVidType = cv2.VideoWriter_fourcc(*'MP4V')\n",
    "\n",
    "sampleImage = cv2.imread(inputImagesPath + '0.jpg')\n",
    "\n",
    "newVideo = cv2.VideoWriter(outputVidPath, outputVidType, 10, (sampleImage.shape[1], sampleImage.shape[0]))\n",
    "while newCount < count:\n",
    "    newVideo.write(cv2.imread(inputImagesPath + str(newCount) + '.jpg'))\n",
    "    newCount += 1\n",
    "\n",
    "newVideo.release()\n",
    "    \n"
   ]
  },
  {
   "cell_type": "code",
   "execution_count": null,
   "metadata": {},
   "outputs": [],
   "source": []
  }
 ],
 "metadata": {
  "interpreter": {
   "hash": "05846dba5a63881521995e4873c40bc366d65f96d65e5e13c55171c3c8697e3d"
  },
  "kernelspec": {
   "display_name": "Python 3.10.1 64-bit ('.cv0env': conda)",
   "language": "python",
   "name": "python3"
  },
  "language_info": {
   "codemirror_mode": {
    "name": "ipython",
    "version": 3
   },
   "file_extension": ".py",
   "mimetype": "text/x-python",
   "name": "python",
   "nbconvert_exporter": "python",
   "pygments_lexer": "ipython3",
   "version": "3.10.1"
  },
  "orig_nbformat": 4
 },
 "nbformat": 4,
 "nbformat_minor": 2
}
